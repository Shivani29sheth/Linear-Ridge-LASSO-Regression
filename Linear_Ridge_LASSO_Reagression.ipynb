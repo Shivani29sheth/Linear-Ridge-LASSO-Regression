{
  "nbformat": 4,
  "nbformat_minor": 0,
  "metadata": {
    "colab": {
      "name": "Linear_Ridge_LASSO_Reagression.ipynb",
      "provenance": [],
      "collapsed_sections": []
    },
    "kernelspec": {
      "name": "python3",
      "display_name": "Python 3"
    }
  },
  "cells": [
    {
      "cell_type": "markdown",
      "metadata": {
        "id": "aOzsedBFvzzY"
      },
      "source": [
        "# **Linear Regression, Ridge Regression, and LASSO**"
      ]
    },
    {
      "cell_type": "markdown",
      "metadata": {
        "id": "DkSB68uPwieg"
      },
      "source": [
        "## Problem statement:"
      ]
    },
    {
      "cell_type": "markdown",
      "metadata": {
        "id": "dKozOicrwmH3"
      },
      "source": [
        "Implement Linear Regression, Ridge Regression, and LASSO algorithms on a small data set, e.g. the Boston Housing\n",
        "Dataset (https://scikit-learn.org/stable/modules/generated/sklearn.datasets.\n",
        "load_boston.html), and compare the performance of each algorithm."
      ]
    },
    {
      "cell_type": "markdown",
      "metadata": {
        "id": "gCN-9zs5G-Hr"
      },
      "source": [
        "## Loading the Boston Housing Dataset"
      ]
    },
    {
      "cell_type": "code",
      "metadata": {
        "colab": {
          "base_uri": "https://localhost:8080/"
        },
        "id": "voWy80ydEZMF",
        "outputId": "60dd89cb-fcd0-4eac-82a4-b4391f548cf6"
      },
      "source": [
        "from sklearn.datasets import load_boston\n",
        "X, y = load_boston(return_X_y=True)\n",
        "print(X.shape)"
      ],
      "execution_count": null,
      "outputs": [
        {
          "output_type": "stream",
          "text": [
            "(506, 13)\n"
          ],
          "name": "stdout"
        }
      ]
    },
    {
      "cell_type": "code",
      "metadata": {
        "colab": {
          "base_uri": "https://localhost:8080/"
        },
        "id": "yo7xprObJvVb",
        "outputId": "ccba8fc2-e0ba-4a43-97a1-db7cfe8cf1c9"
      },
      "source": [
        "print(y.shape)"
      ],
      "execution_count": null,
      "outputs": [
        {
          "output_type": "stream",
          "text": [
            "(506,)\n"
          ],
          "name": "stdout"
        }
      ]
    },
    {
      "cell_type": "code",
      "metadata": {
        "colab": {
          "base_uri": "https://localhost:8080/"
        },
        "id": "QCN3EFEWPfup",
        "outputId": "31a03dea-8816-4080-b146-7abf87f63e1f"
      },
      "source": [
        "print(X)"
      ],
      "execution_count": null,
      "outputs": [
        {
          "output_type": "stream",
          "text": [
            "[[6.3200e-03 1.8000e+01 2.3100e+00 ... 1.5300e+01 3.9690e+02 4.9800e+00]\n",
            " [2.7310e-02 0.0000e+00 7.0700e+00 ... 1.7800e+01 3.9690e+02 9.1400e+00]\n",
            " [2.7290e-02 0.0000e+00 7.0700e+00 ... 1.7800e+01 3.9283e+02 4.0300e+00]\n",
            " ...\n",
            " [6.0760e-02 0.0000e+00 1.1930e+01 ... 2.1000e+01 3.9690e+02 5.6400e+00]\n",
            " [1.0959e-01 0.0000e+00 1.1930e+01 ... 2.1000e+01 3.9345e+02 6.4800e+00]\n",
            " [4.7410e-02 0.0000e+00 1.1930e+01 ... 2.1000e+01 3.9690e+02 7.8800e+00]]\n"
          ],
          "name": "stdout"
        }
      ]
    },
    {
      "cell_type": "code",
      "metadata": {
        "id": "1zquKUJDOas1"
      },
      "source": [
        "from sklearn.preprocessing import normalize\n",
        "X=normalize(X, axis=0)"
      ],
      "execution_count": null,
      "outputs": []
    },
    {
      "cell_type": "code",
      "metadata": {
        "colab": {
          "base_uri": "https://localhost:8080/"
        },
        "id": "UjycjTl8PhTr",
        "outputId": "77bc84c0-b18e-4135-81e3-116167d2a73c"
      },
      "source": [
        "print(X)"
      ],
      "execution_count": null,
      "outputs": [
        {
          "output_type": "stream",
          "text": [
            "[[3.01395767e-05 3.08684289e-02 7.85307229e-03 ... 3.66039256e-02\n",
            "  4.79270479e-02 1.52411958e-02]\n",
            " [1.30239215e-04 0.00000000e+00 2.40351606e-02 ... 4.25849592e-02\n",
            "  4.79270479e-02 2.79727972e-02]\n",
            " [1.30143837e-04 0.00000000e+00 2.40351606e-02 ... 4.25849592e-02\n",
            "  4.74355813e-02 1.23337388e-02]\n",
            " ...\n",
            " [2.89759602e-04 0.00000000e+00 4.05572088e-02 ... 5.02406823e-02\n",
            "  4.79270479e-02 1.72611133e-02]\n",
            " [5.22625983e-04 0.00000000e+00 4.05572088e-02 ... 5.02406823e-02\n",
            "  4.75104484e-02 1.98319175e-02]\n",
            " [2.26094515e-04 0.00000000e+00 4.05572088e-02 ... 5.02406823e-02\n",
            "  4.79270479e-02 2.41165910e-02]]\n"
          ],
          "name": "stdout"
        }
      ]
    },
    {
      "cell_type": "code",
      "metadata": {
        "colab": {
          "base_uri": "https://localhost:8080/"
        },
        "id": "l7PX3je3_BXw",
        "outputId": "2473129f-ad34-4c37-9a22-48bcdc9a2e79"
      },
      "source": [
        "from sklearn.preprocessing import StandardScaler, MinMaxScaler\n",
        "scaler = MinMaxScaler().fit(X)\n",
        "X = scaler.transform(X)\n",
        "X"
      ],
      "execution_count": null,
      "outputs": [
        {
          "output_type": "execute_result",
          "data": {
            "text/plain": [
              "array([[0.00000000e+00, 1.80000000e-01, 6.78152493e-02, ...,\n",
              "        2.87234043e-01, 1.00000000e+00, 8.96799117e-02],\n",
              "       [2.35922539e-04, 0.00000000e+00, 2.42302053e-01, ...,\n",
              "        5.53191489e-01, 1.00000000e+00, 2.04470199e-01],\n",
              "       [2.35697744e-04, 0.00000000e+00, 2.42302053e-01, ...,\n",
              "        5.53191489e-01, 9.89737254e-01, 6.34657837e-02],\n",
              "       ...,\n",
              "       [6.11892474e-04, 0.00000000e+00, 4.20454545e-01, ...,\n",
              "        8.93617021e-01, 1.00000000e+00, 1.07891832e-01],\n",
              "       [1.16072990e-03, 0.00000000e+00, 4.20454545e-01, ...,\n",
              "        8.93617021e-01, 9.91300620e-01, 1.31070640e-01],\n",
              "       [4.61841693e-04, 0.00000000e+00, 4.20454545e-01, ...,\n",
              "        8.93617021e-01, 1.00000000e+00, 1.69701987e-01]])"
            ]
          },
          "metadata": {
            "tags": []
          },
          "execution_count": 164
        }
      ]
    },
    {
      "cell_type": "code",
      "metadata": {
        "id": "5yUSckHdKPDS"
      },
      "source": [
        "from sklearn.model_selection import train_test_split\n",
        "\n",
        "train_data, test_data, train_label, test_label = train_test_split(X, y, test_size=0.20)"
      ],
      "execution_count": null,
      "outputs": []
    },
    {
      "cell_type": "code",
      "metadata": {
        "colab": {
          "base_uri": "https://localhost:8080/"
        },
        "id": "B2Re8LPsBGN1",
        "outputId": "5ce146d6-c323-4dde-aa2a-a11736d1e37d"
      },
      "source": [
        "print(train_data.shape)\n",
        "print(test_data.shape)\n",
        "train_label = train_label.reshape(-1,1)\n",
        "print(train_label.shape)\n",
        "test_label = test_label.reshape(-1,1)\n",
        "print(test_label.shape)"
      ],
      "execution_count": null,
      "outputs": [
        {
          "output_type": "stream",
          "text": [
            "(404, 13)\n",
            "(102, 13)\n",
            "(404, 1)\n",
            "(102, 1)\n"
          ],
          "name": "stdout"
        }
      ]
    },
    {
      "cell_type": "code",
      "metadata": {
        "id": "Bomlj6OPMp0a"
      },
      "source": [
        "# train_data = sklearn.preprocessing.scale(train_data, axis=0, with_mean=True, \n",
        "# with_std=True, copy=True)\n",
        "\n",
        "# test_data = sklearn.preprocessing.scale(test_data, axis=0, with_mean=True, \n",
        "# with_std=True, copy=True)"
      ],
      "execution_count": null,
      "outputs": []
    },
    {
      "cell_type": "code",
      "metadata": {
        "id": "IqN2tLNiINyo"
      },
      "source": [
        "import numpy as np"
      ],
      "execution_count": null,
      "outputs": []
    },
    {
      "cell_type": "code",
      "metadata": {
        "colab": {
          "base_uri": "https://localhost:8080/"
        },
        "id": "u841g-ZHGZN_",
        "outputId": "5feb0ce2-0a83-4052-b0a7-89c2329a43e0"
      },
      "source": [
        "a = np.array([[1,-2,-3],[4,-5,6],[-7,8,9]])\n",
        "a"
      ],
      "execution_count": null,
      "outputs": [
        {
          "output_type": "execute_result",
          "data": {
            "text/plain": [
              "array([[ 1, -2, -3],\n",
              "       [ 4, -5,  6],\n",
              "       [-7,  8,  9]])"
            ]
          },
          "metadata": {
            "tags": []
          },
          "execution_count": 169
        }
      ]
    },
    {
      "cell_type": "code",
      "metadata": {
        "colab": {
          "base_uri": "https://localhost:8080/"
        },
        "id": "qyvzuQRgB8NM",
        "outputId": "ff44f68e-1a52-486c-a398-9f40f4f5ba2d"
      },
      "source": [
        "np.sign(a)"
      ],
      "execution_count": null,
      "outputs": [
        {
          "output_type": "execute_result",
          "data": {
            "text/plain": [
              "array([[ 1, -1, -1],\n",
              "       [ 1, -1,  1],\n",
              "       [-1,  1,  1]])"
            ]
          },
          "metadata": {
            "tags": []
          },
          "execution_count": 170
        }
      ]
    },
    {
      "cell_type": "markdown",
      "metadata": {
        "id": "XvzxRgDMHLUZ"
      },
      "source": [
        "## Regression Models"
      ]
    },
    {
      "cell_type": "markdown",
      "metadata": {
        "id": "hp9BFl1Y6Sf4"
      },
      "source": [
        "### **1. Linear Regression**"
      ]
    },
    {
      "cell_type": "code",
      "metadata": {
        "id": "2GyesXMCJZUn"
      },
      "source": [
        "def Regression_Predict(X,W):\n",
        "  return np.dot(X, W)"
      ],
      "execution_count": null,
      "outputs": []
    },
    {
      "cell_type": "code",
      "metadata": {
        "id": "a2D6PB-pJBi5"
      },
      "source": [
        "#The Mean Square Error.\n",
        "def Linear_Cost(X,Y,W):\n",
        "    return (W.T @ X.T @ X @ W - 2 * (W.T @ X.T @ Y) + Y.T @ Y)[0]\n",
        "def Loss(y,ypred):\n",
        "    l=(y-ypred)**2\n",
        "    return(l.sum())\n",
        "#The Mean Square Error.\n",
        "def MSE(X,Y,W):\n",
        "    return((1/X.shape[0])*Loss(Y,Regression_Predict(X,W))) * 0.0001"
      ],
      "execution_count": null,
      "outputs": []
    },
    {
      "cell_type": "code",
      "metadata": {
        "id": "h2bPCaDxJeTP"
      },
      "source": [
        "def Linear_MGD(X,Y,learnRate=0.001,epochs=40):\n",
        "    \n",
        "   # Random Initialization of Weights\n",
        "    lin_weights=np.random.rand(X.shape[1])\n",
        "    \n",
        "    lin_weights=np.array(lin_weights)\n",
        "    lin_weights=lin_weights.reshape(-1,1)\n",
        "    m=X.shape[0]\n",
        "\n",
        "    # Code to get batches for Stochastic Gradient Descent\n",
        "    # batch size\n",
        "    batch_size = 32\n",
        "    from numpy import random\n",
        "    random_ids = random.choice(m,m,replace=False)\n",
        "    X_shuffled = X[random_ids,:]\n",
        "    y_shuffled = Y[random_ids]\n",
        "\n",
        "    lin_error = []\n",
        "    \n",
        "    for i in range(epochs):\n",
        "        mini_batches = [(X_shuffled[i:i+batch_size,:], y_shuffled[i:i+batch_size]) for i in range(0, m, batch_size)]\n",
        "\n",
        "        for batch in mini_batches:        \n",
        "            X_batch = batch[0]\n",
        "            Y_batch = batch[1]\n",
        "          #   print(\"Before\")\n",
        "          #  # print(lin_weights)\n",
        "          #   print(lin_weights.shape)\n",
        "          #  # print(X_batch)\n",
        "          #   print(X_batch.shape)\n",
        "          #  # print(Y_batch)\n",
        "          #   print(Y_batch.shape)\n",
        "            lin_weights = lin_weights - 2 * learnRate * (X_batch.T @ X_batch @ lin_weights - X_batch.T @ Y_batch )\n",
        "          #   print(\"After\")\n",
        "          #  # print(lin_weights)\n",
        "          #   print(lin_weights.shape)\n",
        "          #   #print(X_batch)\n",
        "          #   print(X_batch.shape)\n",
        "          #   #print(Y_batch)\n",
        "          #   print(Y_batch.shape)\n",
        "            lin_error.append(Linear_Cost(X_batch,Y_batch,lin_weights) )\n",
        "    return(lin_weights, lin_error)"
      ],
      "execution_count": null,
      "outputs": []
    },
    {
      "cell_type": "code",
      "metadata": {
        "id": "ItLn0eocNmk0"
      },
      "source": [
        "lin_weights, lin_error = Linear_MGD(train_data,train_label)"
      ],
      "execution_count": null,
      "outputs": []
    },
    {
      "cell_type": "code",
      "metadata": {
        "id": "Ia23Ric6_r0K"
      },
      "source": [
        "lin_test_pred = Regression_Predict(test_data ,lin_weights)"
      ],
      "execution_count": null,
      "outputs": []
    },
    {
      "cell_type": "code",
      "metadata": {
        "colab": {
          "base_uri": "https://localhost:8080/"
        },
        "id": "Cz3BktXF6PqI",
        "outputId": "ae001c62-8da4-4900-85cd-b9f08986041d"
      },
      "source": [
        "MSE(test_data,test_label,lin_weights )"
      ],
      "execution_count": null,
      "outputs": [
        {
          "output_type": "execute_result",
          "data": {
            "text/plain": [
              "21.0060543102941"
            ]
          },
          "metadata": {
            "tags": []
          },
          "execution_count": 176
        }
      ]
    },
    {
      "cell_type": "code",
      "metadata": {
        "colab": {
          "base_uri": "https://localhost:8080/",
          "height": 314
        },
        "id": "ApNY8TgLJy1y",
        "outputId": "22301638-43d1-477f-9bf8-5de0cf9e5d3e"
      },
      "source": [
        "# Plotting the Scatter plot of Actual Price VS Predicted Price\n",
        "import matplotlib.pyplot as plt\n",
        "%matplotlib inline\n",
        "\n",
        "plt.scatter(test_label, lin_test_pred)\n",
        "plt.xlabel(\"Actual Prices: $Y_i$\",size=14)\n",
        "plt.ylabel(\"Predicted prices: $\\hat{Y}_i$\",size=14)\n",
        "plt.title(\"Actual Prices vs Predicted Prices: $Y_i$ vs $\\hat{Y}_i$\",size=18)\n",
        "plt.show()"
      ],
      "execution_count": null,
      "outputs": [
        {
          "output_type": "display_data",
          "data": {
            "image/png": "[encoded data removed]",
            "text/plain": [
              "<Figure size 432x288 with 1 Axes>"
            ]
          },
          "metadata": {
            "tags": [],
            "needs_background": "light"
          }
        }
      ]
    },
    {
      "cell_type": "code",
      "metadata": {
        "colab": {
          "base_uri": "https://localhost:8080/"
        },
        "id": "WCCW6AwowVa-",
        "outputId": "c587b71e-e260-4fe5-e015-85851841a21a"
      },
      "source": [
        "len(lin_error)"
      ],
      "execution_count": null,
      "outputs": [
        {
          "output_type": "execute_result",
          "data": {
            "text/plain": [
              "520"
            ]
          },
          "metadata": {
            "tags": []
          },
          "execution_count": 179
        }
      ]
    },
    {
      "cell_type": "code",
      "metadata": {
        "colab": {
          "base_uri": "https://localhost:8080/",
          "height": 299
        },
        "id": "twYepSxOvkYz",
        "outputId": "5ba6960a-d809-4950-abe8-6f50c6158918"
      },
      "source": [
        "import matplotlib.pyplot as plt\n",
        "#visualizing the change in error function\n",
        "plt.plot(lin_error) \n",
        "plt.title(\"Error / Cost Curve for Linear Regression\",size=18)\n",
        "plt.xlabel(\"Number of iterations\") \n",
        "plt.ylabel(\"Cost\") \n",
        "plt.show() "
      ],
      "execution_count": null,
      "outputs": [
        {
          "output_type": "display_data",
          "data": {
            "image/png": "[encoded data removed]",
            "text/plain": [
              "<Figure size 432x288 with 1 Axes>"
            ]
          },
          "metadata": {
            "tags": [],
            "needs_background": "light"
          }
        }
      ]
    },
    {
      "cell_type": "markdown",
      "metadata": {
        "id": "bClm4sar6XLq"
      },
      "source": [
        "### **2. Ridge Regression**"
      ]
    },
    {
      "cell_type": "code",
      "metadata": {
        "id": "KpSSO9ga6aG5"
      },
      "source": [
        "#The Mean Square Error.\n",
        "def Ridge_Cost(X,Y,W, ld):\n",
        "    return (W.T @ X.T @ X @ W - 2 * (W.T @ X.T @ Y) + Y.T @ Y + ld * (W.T @ W))[0][0]"
      ],
      "execution_count": null,
      "outputs": []
    },
    {
      "cell_type": "code",
      "metadata": {
        "id": "e9S9OCoaUd2f"
      },
      "source": [
        "def Ridge_MGD(X,Y,learnRate=0.001,epochs=30,reg=0, ld=0.1):\n",
        "    \n",
        "   # Random Initialization of Weights\n",
        "    rid_weights=np.random.rand(X.shape[1])\n",
        "    \n",
        "    rid_weights=np.array(rid_weights)\n",
        "    rid_weights=rid_weights.reshape(-1,1)\n",
        "    m=X.shape[0]\n",
        "\n",
        "    # Code to get batches for Stochastic Gradient Descent\n",
        "    # batch size\n",
        "    batch_size = 20\n",
        "    from numpy import random\n",
        "    random_ids = random.choice(m,m,replace=False)\n",
        "    X_shuffled = X[random_ids,:]\n",
        "    y_shuffled = Y[random_ids]\n",
        "    mini_batches = [(X_shuffled[i:i+batch_size,:], y_shuffled[i:i+batch_size]) for i in range(0, m, batch_size)]\n",
        "    rid_error = []\n",
        "    \n",
        "    for i in range(epochs):\n",
        "        for batch in mini_batches:\n",
        "            print(i)\n",
        "            X_batch = batch[0]\n",
        "            Y_batch = batch[1]\n",
        "          #   print(\"Before\")\n",
        "          #  # print(rid_weights)\n",
        "          #   print(rid_weights.shape)\n",
        "          #  # print(X_batch)\n",
        "          #   print(X_batch.shape)\n",
        "          #  # print(Y_batch)\n",
        "          #   print(Y_batch.shape)\n",
        "            rid_weights = rid_weights - 2 * learnRate * (X_batch.T @ X_batch @ rid_weights - X_batch.T @ Y_batch + ld * rid_weights )\n",
        "          #   print(\"After\")\n",
        "          #  # print(rid_weights)\n",
        "          #   print(rid_weights.shape)\n",
        "          #   #print(X_batch)\n",
        "          #   print(X_batch.shape)\n",
        "          #   #print(Y_batch)\n",
        "          #   print(Y_batch.shape)\n",
        "            rid_error.append(Ridge_Cost(X_batch,Y_batch,rid_weights,ld) )\n",
        "    return(rid_weights, rid_error)"
      ],
      "execution_count": null,
      "outputs": []
    },
    {
      "cell_type": "code",
      "metadata": {
        "colab": {
          "base_uri": "https://localhost:8080/"
        },
        "id": "-p0S1gDP60yI",
        "outputId": "54ee9eef-b91c-44ee-acfe-0fcfcf1eb581"
      },
      "source": [
        "rid_weights, rid_error =Ridge_MGD(train_data,train_label)\n",
        "rid_test_pred = Regression_Predict (test_data, rid_weights)"
      ],
      "execution_count": null,
      "outputs": [
        {
          "output_type": "stream",
          "text": [
            "0\n",
            "0\n",
            "0\n",
            "0\n",
            "0\n",
            "0\n",
            "0\n",
            "0\n",
            "0\n",
            "0\n",
            "0\n",
            "0\n",
            "0\n",
            "0\n",
            "0\n",
            "0\n",
            "0\n",
            "0\n",
            "0\n",
            "0\n",
            "0\n",
            "1\n",
            "1\n",
            "1\n",
            "1\n",
            "1\n",
            "1\n",
            "1\n",
            "1\n",
            "1\n",
            "1\n",
            "1\n",
            "1\n",
            "1\n",
            "1\n",
            "1\n",
            "1\n",
            "1\n",
            "1\n",
            "1\n",
            "1\n",
            "1\n",
            "2\n",
            "2\n",
            "2\n",
            "2\n",
            "2\n",
            "2\n",
            "2\n",
            "2\n",
            "2\n",
            "2\n",
            "2\n",
            "2\n",
            "2\n",
            "2\n",
            "2\n",
            "2\n",
            "2\n",
            "2\n",
            "2\n",
            "2\n",
            "2\n",
            "3\n",
            "3\n",
            "3\n",
            "3\n",
            "3\n",
            "3\n",
            "3\n",
            "3\n",
            "3\n",
            "3\n",
            "3\n",
            "3\n",
            "3\n",
            "3\n",
            "3\n",
            "3\n",
            "3\n",
            "3\n",
            "3\n",
            "3\n",
            "3\n",
            "4\n",
            "4\n",
            "4\n",
            "4\n",
            "4\n",
            "4\n",
            "4\n",
            "4\n",
            "4\n",
            "4\n",
            "4\n",
            "4\n",
            "4\n",
            "4\n",
            "4\n",
            "4\n",
            "4\n",
            "4\n",
            "4\n",
            "4\n",
            "4\n",
            "5\n",
            "5\n",
            "5\n",
            "5\n",
            "5\n",
            "5\n",
            "5\n",
            "5\n",
            "5\n",
            "5\n",
            "5\n",
            "5\n",
            "5\n",
            "5\n",
            "5\n",
            "5\n",
            "5\n",
            "5\n",
            "5\n",
            "5\n",
            "5\n",
            "6\n",
            "6\n",
            "6\n",
            "6\n",
            "6\n",
            "6\n",
            "6\n",
            "6\n",
            "6\n",
            "6\n",
            "6\n",
            "6\n",
            "6\n",
            "6\n",
            "6\n",
            "6\n",
            "6\n",
            "6\n",
            "6\n",
            "6\n",
            "6\n",
            "7\n",
            "7\n",
            "7\n",
            "7\n",
            "7\n",
            "7\n",
            "7\n",
            "7\n",
            "7\n",
            "7\n",
            "7\n",
            "7\n",
            "7\n",
            "7\n",
            "7\n",
            "7\n",
            "7\n",
            "7\n",
            "7\n",
            "7\n",
            "7\n",
            "8\n",
            "8\n",
            "8\n",
            "8\n",
            "8\n",
            "8\n",
            "8\n",
            "8\n",
            "8\n",
            "8\n",
            "8\n",
            "8\n",
            "8\n",
            "8\n",
            "8\n",
            "8\n",
            "8\n",
            "8\n",
            "8\n",
            "8\n",
            "8\n",
            "9\n",
            "9\n",
            "9\n",
            "9\n",
            "9\n",
            "9\n",
            "9\n",
            "9\n",
            "9\n",
            "9\n",
            "9\n",
            "9\n",
            "9\n",
            "9\n",
            "9\n",
            "9\n",
            "9\n",
            "9\n",
            "9\n",
            "9\n",
            "9\n",
            "10\n",
            "10\n",
            "10\n",
            "10\n",
            "10\n",
            "10\n",
            "10\n",
            "10\n",
            "10\n",
            "10\n",
            "10\n",
            "10\n",
            "10\n",
            "10\n",
            "10\n",
            "10\n",
            "10\n",
            "10\n",
            "10\n",
            "10\n",
            "10\n",
            "11\n",
            "11\n",
            "11\n",
            "11\n",
            "11\n",
            "11\n",
            "11\n",
            "11\n",
            "11\n",
            "11\n",
            "11\n",
            "11\n",
            "11\n",
            "11\n",
            "11\n",
            "11\n",
            "11\n",
            "11\n",
            "11\n",
            "11\n",
            "11\n",
            "12\n",
            "12\n",
            "12\n",
            "12\n",
            "12\n",
            "12\n",
            "12\n",
            "12\n",
            "12\n",
            "12\n",
            "12\n",
            "12\n",
            "12\n",
            "12\n",
            "12\n",
            "12\n",
            "12\n",
            "12\n",
            "12\n",
            "12\n",
            "12\n",
            "13\n",
            "13\n",
            "13\n",
            "13\n",
            "13\n",
            "13\n",
            "13\n",
            "13\n",
            "13\n",
            "13\n",
            "13\n",
            "13\n",
            "13\n",
            "13\n",
            "13\n",
            "13\n",
            "13\n",
            "13\n",
            "13\n",
            "13\n",
            "13\n",
            "14\n",
            "14\n",
            "14\n",
            "14\n",
            "14\n",
            "14\n",
            "14\n",
            "14\n",
            "14\n",
            "14\n",
            "14\n",
            "14\n",
            "14\n",
            "14\n",
            "14\n",
            "14\n",
            "14\n",
            "14\n",
            "14\n",
            "14\n",
            "14\n",
            "15\n",
            "15\n",
            "15\n",
            "15\n",
            "15\n",
            "15\n",
            "15\n",
            "15\n",
            "15\n",
            "15\n",
            "15\n",
            "15\n",
            "15\n",
            "15\n",
            "15\n",
            "15\n",
            "15\n",
            "15\n",
            "15\n",
            "15\n",
            "15\n",
            "16\n",
            "16\n",
            "16\n",
            "16\n",
            "16\n",
            "16\n",
            "16\n",
            "16\n",
            "16\n",
            "16\n",
            "16\n",
            "16\n",
            "16\n",
            "16\n",
            "16\n",
            "16\n",
            "16\n",
            "16\n",
            "16\n",
            "16\n",
            "16\n",
            "17\n",
            "17\n",
            "17\n",
            "17\n",
            "17\n",
            "17\n",
            "17\n",
            "17\n",
            "17\n",
            "17\n",
            "17\n",
            "17\n",
            "17\n",
            "17\n",
            "17\n",
            "17\n",
            "17\n",
            "17\n",
            "17\n",
            "17\n",
            "17\n",
            "18\n",
            "18\n",
            "18\n",
            "18\n",
            "18\n",
            "18\n",
            "18\n",
            "18\n",
            "18\n",
            "18\n",
            "18\n",
            "18\n",
            "18\n",
            "18\n",
            "18\n",
            "18\n",
            "18\n",
            "18\n",
            "18\n",
            "18\n",
            "18\n",
            "19\n",
            "19\n",
            "19\n",
            "19\n",
            "19\n",
            "19\n",
            "19\n",
            "19\n",
            "19\n",
            "19\n",
            "19\n",
            "19\n",
            "19\n",
            "19\n",
            "19\n",
            "19\n",
            "19\n",
            "19\n",
            "19\n",
            "19\n",
            "19\n",
            "20\n",
            "20\n",
            "20\n",
            "20\n",
            "20\n",
            "20\n",
            "20\n",
            "20\n",
            "20\n",
            "20\n",
            "20\n",
            "20\n",
            "20\n",
            "20\n",
            "20\n",
            "20\n",
            "20\n",
            "20\n",
            "20\n",
            "20\n",
            "20\n",
            "21\n",
            "21\n",
            "21\n",
            "21\n",
            "21\n",
            "21\n",
            "21\n",
            "21\n",
            "21\n",
            "21\n",
            "21\n",
            "21\n",
            "21\n",
            "21\n",
            "21\n",
            "21\n",
            "21\n",
            "21\n",
            "21\n",
            "21\n",
            "21\n",
            "22\n",
            "22\n",
            "22\n",
            "22\n",
            "22\n",
            "22\n",
            "22\n",
            "22\n",
            "22\n",
            "22\n",
            "22\n",
            "22\n",
            "22\n",
            "22\n",
            "22\n",
            "22\n",
            "22\n",
            "22\n",
            "22\n",
            "22\n",
            "22\n",
            "23\n",
            "23\n",
            "23\n",
            "23\n",
            "23\n",
            "23\n",
            "23\n",
            "23\n",
            "23\n",
            "23\n",
            "23\n",
            "23\n",
            "23\n",
            "23\n",
            "23\n",
            "23\n",
            "23\n",
            "23\n",
            "23\n",
            "23\n",
            "23\n",
            "24\n",
            "24\n",
            "24\n",
            "24\n",
            "24\n",
            "24\n",
            "24\n",
            "24\n",
            "24\n",
            "24\n",
            "24\n",
            "24\n",
            "24\n",
            "24\n",
            "24\n",
            "24\n",
            "24\n",
            "24\n",
            "24\n",
            "24\n",
            "24\n",
            "25\n",
            "25\n",
            "25\n",
            "25\n",
            "25\n",
            "25\n",
            "25\n",
            "25\n",
            "25\n",
            "25\n",
            "25\n",
            "25\n",
            "25\n",
            "25\n",
            "25\n",
            "25\n",
            "25\n",
            "25\n",
            "25\n",
            "25\n",
            "25\n",
            "26\n",
            "26\n",
            "26\n",
            "26\n",
            "26\n",
            "26\n",
            "26\n",
            "26\n",
            "26\n",
            "26\n",
            "26\n",
            "26\n",
            "26\n",
            "26\n",
            "26\n",
            "26\n",
            "26\n",
            "26\n",
            "26\n",
            "26\n",
            "26\n",
            "27\n",
            "27\n",
            "27\n",
            "27\n",
            "27\n",
            "27\n",
            "27\n",
            "27\n",
            "27\n",
            "27\n",
            "27\n",
            "27\n",
            "27\n",
            "27\n",
            "27\n",
            "27\n",
            "27\n",
            "27\n",
            "27\n",
            "27\n",
            "27\n",
            "28\n",
            "28\n",
            "28\n",
            "28\n",
            "28\n",
            "28\n",
            "28\n",
            "28\n",
            "28\n",
            "28\n",
            "28\n",
            "28\n",
            "28\n",
            "28\n",
            "28\n",
            "28\n",
            "28\n",
            "28\n",
            "28\n",
            "28\n",
            "28\n",
            "29\n",
            "29\n",
            "29\n",
            "29\n",
            "29\n",
            "29\n",
            "29\n",
            "29\n",
            "29\n",
            "29\n",
            "29\n",
            "29\n",
            "29\n",
            "29\n",
            "29\n",
            "29\n",
            "29\n",
            "29\n",
            "29\n",
            "29\n",
            "29\n"
          ],
          "name": "stdout"
        }
      ]
    },
    {
      "cell_type": "code",
      "metadata": {
        "colab": {
          "base_uri": "https://localhost:8080/"
        },
        "id": "wDA_P2SrHnNC",
        "outputId": "0141e228-4bc7-4765-9be8-613ef9429b8d"
      },
      "source": [
        "MSE(test_data,test_label,rid_weights )"
      ],
      "execution_count": null,
      "outputs": [
        {
          "output_type": "execute_result",
          "data": {
            "text/plain": [
              "55.53465972319111"
            ]
          },
          "metadata": {
            "tags": []
          },
          "execution_count": 109
        }
      ]
    },
    {
      "cell_type": "code",
      "metadata": {
        "colab": {
          "base_uri": "https://localhost:8080/",
          "height": 314
        },
        "id": "k80j0ye7L24F",
        "outputId": "88a02003-059f-42ac-fef3-ec9627dc11b5"
      },
      "source": [
        "# Plotting the Scatter plot of Actual Price VS Predicted Price\n",
        "import matplotlib.pyplot as plt\n",
        "%matplotlib inline\n",
        "\n",
        "plt.scatter(test_label, rid_test_pred)\n",
        "plt.xlabel(\"Actual Prices: $Y_i$\",size=14)\n",
        "plt.ylabel(\"Predicted prices: $\\hat{Y}_i$\",size=14)\n",
        "plt.title(\"Actual Prices vs Predicted Prices: $Y_i$ vs $\\hat{Y}_i$\",size=18)\n",
        "plt.show()"
      ],
      "execution_count": null,
      "outputs": [
        {
          "output_type": "display_data",
          "data": {
            "image/png": "[encoded data removed]",
            "text/plain": [
              "<Figure size 432x288 with 1 Axes>"
            ]
          },
          "metadata": {
            "tags": [],
            "needs_background": "light"
          }
        }
      ]
    },
    {
      "cell_type": "code",
      "metadata": {
        "colab": {
          "base_uri": "https://localhost:8080/",
          "height": 299
        },
        "id": "wI2wrK8d6vfT",
        "outputId": "415c149f-654f-4c33-9a0c-065f6a18d92d"
      },
      "source": [
        "import matplotlib.pyplot as plt\n",
        "#visualizing the change in error function\n",
        "plt.plot(rid_error) \n",
        "plt.title(\"Error / Cost curve for Ridge Regression\",size=18)\n",
        "plt.xlabel(\"Number of iterations\") \n",
        "plt.ylabel(\"Cost\") \n",
        "plt.show() "
      ],
      "execution_count": null,
      "outputs": [
        {
          "output_type": "display_data",
          "data": {
            "image/png": "[encoded data removed]",
            "text/plain": [
              "<Figure size 432x288 with 1 Axes>"
            ]
          },
          "metadata": {
            "tags": [],
            "needs_background": "light"
          }
        }
      ]
    },
    {
      "cell_type": "markdown",
      "metadata": {
        "id": "7vqdZXjc6bhO"
      },
      "source": [
        "### **3. LASSO**"
      ]
    },
    {
      "cell_type": "code",
      "metadata": {
        "id": "WqoTT61J6cl2"
      },
      "source": [
        "#The Mean Square Error.\n",
        "def Lasso_Cost(X,Y,W, ld):\n",
        "    return (W.T @ X.T @ X @ W - 2 * (W.T @ X.T @ Y) + Y.T @ Y + ld * np.linalg.norm(W))[0][0]"
      ],
      "execution_count": null,
      "outputs": []
    },
    {
      "cell_type": "code",
      "metadata": {
        "id": "JhosK9Bz8jJa"
      },
      "source": [
        "def Lasso_MGD(X,Y,learnRate=0.001,epochs=30,reg=0, ld=0.1):\n",
        "    \n",
        "   # Random Initialization of Weights\n",
        "    las_weights=np.random.rand(X.shape[1])\n",
        "    print(las_weights.shape)\n",
        "    las_weights=np.array(las_weights)\n",
        "    las_weights=las_weights.reshape(-1,1)\n",
        "    m=X.shape[0]\n",
        "\n",
        "    # Code to get batches for Stochastic Gradient Descent\n",
        "    # batch size\n",
        "    batch_size = 20\n",
        "    from numpy import random\n",
        "    random_ids = random.choice(m,m,replace=False)\n",
        "    X_shuffled = X[random_ids,:]\n",
        "    y_shuffled = Y[random_ids]\n",
        "    mini_batches = [(X_shuffled[i:i+batch_size,:], y_shuffled[i:i+batch_size]) for i in range(0, m, batch_size)]\n",
        "    las_error = []\n",
        "    \n",
        "    for i in range(epochs):\n",
        "        for batch in mini_batches:\n",
        "            print(i)\n",
        "            X_batch = batch[0]\n",
        "            Y_batch = batch[1]\n",
        "          #   print(\"Before\")\n",
        "          #  # print(las_weights)\n",
        "          #   print(las_weights.shape)\n",
        "          #  # print(X_batch)\n",
        "          #   print(X_batch.shape)\n",
        "          #  # print(Y_batch)\n",
        "          #   print(Y_batch.shape)\n",
        "            las_weights = las_weights - 2 * learnRate * (X_batch.T @ X_batch @ las_weights - X_batch.T @ Y_batch + ld * np.sign(las_weights) )\n",
        "          #   print(\"After\")\n",
        "          #  # print(las_weights)\n",
        "          #   print(las_weights.shape)\n",
        "          #   #print(X_batch)\n",
        "          #   print(X_batch.shape)\n",
        "          #   #print(Y_batch)\n",
        "          #   print(Y_batch.shape)\n",
        "            las_error.append(Lasso_Cost(X_batch,Y_batch,las_weights,ld) )\n",
        "    print(las_weights.shape)\n",
        "    return(las_weights, las_error)"
      ],
      "execution_count": null,
      "outputs": []
    },
    {
      "cell_type": "code",
      "metadata": {
        "colab": {
          "base_uri": "https://localhost:8080/"
        },
        "id": "34C62gEa8mMl",
        "outputId": "1ee05690-5bfd-43d6-f97a-e7fd60b89c52"
      },
      "source": [
        "las_weights, las_error = Lasso_MGD(train_data,train_label)\n",
        "print(test_data.shape)\n",
        "print(las_weights.shape)\n",
        "las_test_pred = Regression_Predict(test_data, las_weights)"
      ],
      "execution_count": null,
      "outputs": [
        {
          "output_type": "stream",
          "text": [
            "(13,)\n",
            "0\n",
            "0\n",
            "0\n",
            "0\n",
            "0\n",
            "0\n",
            "0\n",
            "0\n",
            "0\n",
            "0\n",
            "0\n",
            "0\n",
            "0\n",
            "0\n",
            "0\n",
            "0\n",
            "0\n",
            "0\n",
            "0\n",
            "0\n",
            "0\n",
            "1\n",
            "1\n",
            "1\n",
            "1\n",
            "1\n",
            "1\n",
            "1\n",
            "1\n",
            "1\n",
            "1\n",
            "1\n",
            "1\n",
            "1\n",
            "1\n",
            "1\n",
            "1\n",
            "1\n",
            "1\n",
            "1\n",
            "1\n",
            "1\n",
            "2\n",
            "2\n",
            "2\n",
            "2\n",
            "2\n",
            "2\n",
            "2\n",
            "2\n",
            "2\n",
            "2\n",
            "2\n",
            "2\n",
            "2\n",
            "2\n",
            "2\n",
            "2\n",
            "2\n",
            "2\n",
            "2\n",
            "2\n",
            "2\n",
            "3\n",
            "3\n",
            "3\n",
            "3\n",
            "3\n",
            "3\n",
            "3\n",
            "3\n",
            "3\n",
            "3\n",
            "3\n",
            "3\n",
            "3\n",
            "3\n",
            "3\n",
            "3\n",
            "3\n",
            "3\n",
            "3\n",
            "3\n",
            "3\n",
            "4\n",
            "4\n",
            "4\n",
            "4\n",
            "4\n",
            "4\n",
            "4\n",
            "4\n",
            "4\n",
            "4\n",
            "4\n",
            "4\n",
            "4\n",
            "4\n",
            "4\n",
            "4\n",
            "4\n",
            "4\n",
            "4\n",
            "4\n",
            "4\n",
            "5\n",
            "5\n",
            "5\n",
            "5\n",
            "5\n",
            "5\n",
            "5\n",
            "5\n",
            "5\n",
            "5\n",
            "5\n",
            "5\n",
            "5\n",
            "5\n",
            "5\n",
            "5\n",
            "5\n",
            "5\n",
            "5\n",
            "5\n",
            "5\n",
            "6\n",
            "6\n",
            "6\n",
            "6\n",
            "6\n",
            "6\n",
            "6\n",
            "6\n",
            "6\n",
            "6\n",
            "6\n",
            "6\n",
            "6\n",
            "6\n",
            "6\n",
            "6\n",
            "6\n",
            "6\n",
            "6\n",
            "6\n",
            "6\n",
            "7\n",
            "7\n",
            "7\n",
            "7\n",
            "7\n",
            "7\n",
            "7\n",
            "7\n",
            "7\n",
            "7\n",
            "7\n",
            "7\n",
            "7\n",
            "7\n",
            "7\n",
            "7\n",
            "7\n",
            "7\n",
            "7\n",
            "7\n",
            "7\n",
            "8\n",
            "8\n",
            "8\n",
            "8\n",
            "8\n",
            "8\n",
            "8\n",
            "8\n",
            "8\n",
            "8\n",
            "8\n",
            "8\n",
            "8\n",
            "8\n",
            "8\n",
            "8\n",
            "8\n",
            "8\n",
            "8\n",
            "8\n",
            "8\n",
            "9\n",
            "9\n",
            "9\n",
            "9\n",
            "9\n",
            "9\n",
            "9\n",
            "9\n",
            "9\n",
            "9\n",
            "9\n",
            "9\n",
            "9\n",
            "9\n",
            "9\n",
            "9\n",
            "9\n",
            "9\n",
            "9\n",
            "9\n",
            "9\n",
            "10\n",
            "10\n",
            "10\n",
            "10\n",
            "10\n",
            "10\n",
            "10\n",
            "10\n",
            "10\n",
            "10\n",
            "10\n",
            "10\n",
            "10\n",
            "10\n",
            "10\n",
            "10\n",
            "10\n",
            "10\n",
            "10\n",
            "10\n",
            "10\n",
            "11\n",
            "11\n",
            "11\n",
            "11\n",
            "11\n",
            "11\n",
            "11\n",
            "11\n",
            "11\n",
            "11\n",
            "11\n",
            "11\n",
            "11\n",
            "11\n",
            "11\n",
            "11\n",
            "11\n",
            "11\n",
            "11\n",
            "11\n",
            "11\n",
            "12\n",
            "12\n",
            "12\n",
            "12\n",
            "12\n",
            "12\n",
            "12\n",
            "12\n",
            "12\n",
            "12\n",
            "12\n",
            "12\n",
            "12\n",
            "12\n",
            "12\n",
            "12\n",
            "12\n",
            "12\n",
            "12\n",
            "12\n",
            "12\n",
            "13\n",
            "13\n",
            "13\n",
            "13\n",
            "13\n",
            "13\n",
            "13\n",
            "13\n",
            "13\n",
            "13\n",
            "13\n",
            "13\n",
            "13\n",
            "13\n",
            "13\n",
            "13\n",
            "13\n",
            "13\n",
            "13\n",
            "13\n",
            "13\n",
            "14\n",
            "14\n",
            "14\n",
            "14\n",
            "14\n",
            "14\n",
            "14\n",
            "14\n",
            "14\n",
            "14\n",
            "14\n",
            "14\n",
            "14\n",
            "14\n",
            "14\n",
            "14\n",
            "14\n",
            "14\n",
            "14\n",
            "14\n",
            "14\n",
            "15\n",
            "15\n",
            "15\n",
            "15\n",
            "15\n",
            "15\n",
            "15\n",
            "15\n",
            "15\n",
            "15\n",
            "15\n",
            "15\n",
            "15\n",
            "15\n",
            "15\n",
            "15\n",
            "15\n",
            "15\n",
            "15\n",
            "15\n",
            "15\n",
            "16\n",
            "16\n",
            "16\n",
            "16\n",
            "16\n",
            "16\n",
            "16\n",
            "16\n",
            "16\n",
            "16\n",
            "16\n",
            "16\n",
            "16\n",
            "16\n",
            "16\n",
            "16\n",
            "16\n",
            "16\n",
            "16\n",
            "16\n",
            "16\n",
            "17\n",
            "17\n",
            "17\n",
            "17\n",
            "17\n",
            "17\n",
            "17\n",
            "17\n",
            "17\n",
            "17\n",
            "17\n",
            "17\n",
            "17\n",
            "17\n",
            "17\n",
            "17\n",
            "17\n",
            "17\n",
            "17\n",
            "17\n",
            "17\n",
            "18\n",
            "18\n",
            "18\n",
            "18\n",
            "18\n",
            "18\n",
            "18\n",
            "18\n",
            "18\n",
            "18\n",
            "18\n",
            "18\n",
            "18\n",
            "18\n",
            "18\n",
            "18\n",
            "18\n",
            "18\n",
            "18\n",
            "18\n",
            "18\n",
            "19\n",
            "19\n",
            "19\n",
            "19\n",
            "19\n",
            "19\n",
            "19\n",
            "19\n",
            "19\n",
            "19\n",
            "19\n",
            "19\n",
            "19\n",
            "19\n",
            "19\n",
            "19\n",
            "19\n",
            "19\n",
            "19\n",
            "19\n",
            "19\n",
            "20\n",
            "20\n",
            "20\n",
            "20\n",
            "20\n",
            "20\n",
            "20\n",
            "20\n",
            "20\n",
            "20\n",
            "20\n",
            "20\n",
            "20\n",
            "20\n",
            "20\n",
            "20\n",
            "20\n",
            "20\n",
            "20\n",
            "20\n",
            "20\n",
            "21\n",
            "21\n",
            "21\n",
            "21\n",
            "21\n",
            "21\n",
            "21\n",
            "21\n",
            "21\n",
            "21\n",
            "21\n",
            "21\n",
            "21\n",
            "21\n",
            "21\n",
            "21\n",
            "21\n",
            "21\n",
            "21\n",
            "21\n",
            "21\n",
            "22\n",
            "22\n",
            "22\n",
            "22\n",
            "22\n",
            "22\n",
            "22\n",
            "22\n",
            "22\n",
            "22\n",
            "22\n",
            "22\n",
            "22\n",
            "22\n",
            "22\n",
            "22\n",
            "22\n",
            "22\n",
            "22\n",
            "22\n",
            "22\n",
            "23\n",
            "23\n",
            "23\n",
            "23\n",
            "23\n",
            "23\n",
            "23\n",
            "23\n",
            "23\n",
            "23\n",
            "23\n",
            "23\n",
            "23\n",
            "23\n",
            "23\n",
            "23\n",
            "23\n",
            "23\n",
            "23\n",
            "23\n",
            "23\n",
            "24\n",
            "24\n",
            "24\n",
            "24\n",
            "24\n",
            "24\n",
            "24\n",
            "24\n",
            "24\n",
            "24\n",
            "24\n",
            "24\n",
            "24\n",
            "24\n",
            "24\n",
            "24\n",
            "24\n",
            "24\n",
            "24\n",
            "24\n",
            "24\n",
            "25\n",
            "25\n",
            "25\n",
            "25\n",
            "25\n",
            "25\n",
            "25\n",
            "25\n",
            "25\n",
            "25\n",
            "25\n",
            "25\n",
            "25\n",
            "25\n",
            "25\n",
            "25\n",
            "25\n",
            "25\n",
            "25\n",
            "25\n",
            "25\n",
            "26\n",
            "26\n",
            "26\n",
            "26\n",
            "26\n",
            "26\n",
            "26\n",
            "26\n",
            "26\n",
            "26\n",
            "26\n",
            "26\n",
            "26\n",
            "26\n",
            "26\n",
            "26\n",
            "26\n",
            "26\n",
            "26\n",
            "26\n",
            "26\n",
            "27\n",
            "27\n",
            "27\n",
            "27\n",
            "27\n",
            "27\n",
            "27\n",
            "27\n",
            "27\n",
            "27\n",
            "27\n",
            "27\n",
            "27\n",
            "27\n",
            "27\n",
            "27\n",
            "27\n",
            "27\n",
            "27\n",
            "27\n",
            "27\n",
            "28\n",
            "28\n",
            "28\n",
            "28\n",
            "28\n",
            "28\n",
            "28\n",
            "28\n",
            "28\n",
            "28\n",
            "28\n",
            "28\n",
            "28\n",
            "28\n",
            "28\n",
            "28\n",
            "28\n",
            "28\n",
            "28\n",
            "28\n",
            "28\n",
            "29\n",
            "29\n",
            "29\n",
            "29\n",
            "29\n",
            "29\n",
            "29\n",
            "29\n",
            "29\n",
            "29\n",
            "29\n",
            "29\n",
            "29\n",
            "29\n",
            "29\n",
            "29\n",
            "29\n",
            "29\n",
            "29\n",
            "29\n",
            "29\n",
            "(13, 1)\n",
            "(102, 13)\n",
            "(13, 1)\n"
          ],
          "name": "stdout"
        }
      ]
    },
    {
      "cell_type": "code",
      "metadata": {
        "colab": {
          "base_uri": "https://localhost:8080/"
        },
        "id": "DpQmwYdtHs-A",
        "outputId": "7f12c9ad-9bcf-4064-89af-1a8a69930bca"
      },
      "source": [
        "MSE(test_data,test_label,las_weights )"
      ],
      "execution_count": null,
      "outputs": [
        {
          "output_type": "execute_result",
          "data": {
            "text/plain": [
              "53.32452986795816"
            ]
          },
          "metadata": {
            "tags": []
          },
          "execution_count": 115
        }
      ]
    },
    {
      "cell_type": "code",
      "metadata": {
        "colab": {
          "base_uri": "https://localhost:8080/",
          "height": 314
        },
        "id": "vkHG1rozMFFA",
        "outputId": "35e78838-064b-495d-c956-989065c7e65e"
      },
      "source": [
        "# Plotting the Scatter plot of Actual Price VS Predicted Price\n",
        "import matplotlib.pyplot as plt\n",
        "%matplotlib inline\n",
        "\n",
        "plt.scatter(test_label, las_test_pred)\n",
        "plt.xlabel(\"Actual Prices: $Y_i$\",size=14)\n",
        "plt.ylabel(\"Predicted prices: $\\hat{Y}_i$\",size=14)\n",
        "plt.title(\"Actual Prices vs Predicted Prices: $Y_i$ vs $\\hat{Y}_i$\",size=18)\n",
        "plt.show()"
      ],
      "execution_count": null,
      "outputs": [
        {
          "output_type": "display_data",
          "data": {
            "image/png": "[encoded data removed]",
            "text/plain": [
              "<Figure size 432x288 with 1 Axes>"
            ]
          },
          "metadata": {
            "tags": [],
            "needs_background": "light"
          }
        }
      ]
    },
    {
      "cell_type": "code",
      "metadata": {
        "colab": {
          "base_uri": "https://localhost:8080/",
          "height": 299
        },
        "id": "RqIXOmP-8r2l",
        "outputId": "0eab2279-91e7-4455-f4d7-4c59f1f88720"
      },
      "source": [
        "import matplotlib.pyplot as plt\n",
        "#visualizing the change in error function\n",
        "plt.plot(las_error) \n",
        "plt.title(\"Error / Cost curve for LASSO Regression\",size=18)\n",
        "plt.xlabel(\"Number of iterations\") \n",
        "plt.ylabel(\"Cost\") \n",
        "plt.show() "
      ],
      "execution_count": null,
      "outputs": [
        {
          "output_type": "display_data",
          "data": {
            "image/png": "[encoded data removed]",
            "text/plain": [
              "<Figure size 432x288 with 1 Axes>"
            ]
          },
          "metadata": {
            "tags": [],
            "needs_background": "light"
          }
        }
      ]
    },
    {
      "cell_type": "code",
      "metadata": {
        "id": "ObCPP2J0EGDG"
      },
      "source": [
        ""
      ],
      "execution_count": null,
      "outputs": []
    }
  ]
}